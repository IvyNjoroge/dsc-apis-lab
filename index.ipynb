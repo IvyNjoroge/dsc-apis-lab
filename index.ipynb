{
 "cells": [
  {
   "cell_type": "markdown",
   "metadata": {},
   "source": [
    "# APIs - Cumulative Lab\n",
    "\n",
    "\n",
    "## Introduction \n",
    "\n",
    "We've seen how the Yelp API works and how to create basic visualizations using Folium. It's time to put those skills to work in order to create a working map! Taking things a step further, you'll also independently explore how to perform pagination in order to retrieve a full results set from the Yelp API.\n",
    "\n",
    "## Objectives\n",
    "\n",
    "You will be able to: \n",
    "\n",
    "* Practice using functions to organize your code\n",
    "* Use pagination to retrieve all results from an API query\n",
    "* Practice parsing data returned from an API query\n",
    "* Practice interpreting visualizations of a dataset\n",
    "* Create maps using Folium"
   ]
  },
  {
   "cell_type": "markdown",
   "metadata": {},
   "source": [
    "## Your Task: Query Yelp for All Businesses in a Category and Analyze the Results\n",
    "\n",
    "![restaurant counter with pizza](images/restaurant_counter.jpg)\n",
    "\n",
    "Photo by <a href=\"https://unsplash.com/@jordanmadrid?utm_source=unsplash&utm_medium=referral&utm_content=creditCopyText\">Jordan Madrid</a> on <a href=\"/s/photos/pizza-restaurant?utm_source=unsplash&utm_medium=referral&utm_content=creditCopyText\">Unsplash</a>"
   ]
  },
  {
   "cell_type": "markdown",
   "metadata": {},
   "source": [
    "### Overview\n",
    "\n",
    "You've now worked with some API calls, but we have yet to see how to retrieve a more complete dataset in a programmatic manner. In this lab, you will write a query of businesses on Yelp, then use *pagination* to retrieve all possible results for that query. Then you will create a summary of your findings, including a Folium map of the geographic locations of those businesses.\n",
    "\n",
    "### Technical Details\n",
    "\n",
    "Returning to the Yelp API, the [documentation](https://www.yelp.com/developers/documentation/v3/business_search) also provides us details regarding the **API limits**. These often include details about the number of requests a user is allowed to make within a specified time limit and the maximum number of results to be returned. In this case, we are told that any request has a **maximum of 50 results per request** and defaults to 20. Furthermore, any search will be limited to a **total of 1000 results**. To retrieve all 1000 of these results, we would have to page through the results piece by piece, retrieving 50 at a time. Processes such as these are often referred to as pagination.\n",
    "\n",
    "Also, be mindful of the **API** ***rate*** **limits**. You can only make **5000 requests per day** and are also can make requests too fast. Start prototyping small before running a loop that could be faulty. You can also use `time.sleep(n)` to add delays. For more details see https://www.yelp.com/developers/documentation/v3/rate_limiting.\n",
    "\n",
    "In this lab, you will define a search and then paginate over the results to retrieve all of the results. You'll then parse these responses as a list of dictionaries (for further exploration) and create a map using Folium to visualize the results geographically.\n",
    "\n",
    "### Requirements\n",
    "\n",
    "#### 1. Make the Initial Request\n",
    "\n",
    "Start by filling in your API key to make the initial request to the business search API. Investigate the structure of the response you get back and start figuring out how you will extract the relevant information.\n",
    "\n",
    "#### 2. Add Pagination\n",
    "\n",
    "Using loops and functions, collect the maximum number of results for your query from the API.\n",
    "\n",
    "#### 3. Perform Exploratory Analysis\n",
    "\n",
    "Interpret visualizations related to the price range, average rating, and number of reviews for all query results.\n",
    "\n",
    "#### 4. Create a Folium Map\n",
    "\n",
    "Using latitude and longitude data, plot the query results on an interactive map."
   ]
  },
  {
   "cell_type": "markdown",
   "metadata": {},
   "source": [
    "## 1. Make the Initial Request\n",
    "\n",
    "### Querying\n",
    "\n",
    "Start by making an initial request to the Yelp API. Your search must include at least 2 parameters: **term** and **location**. For example, you might search for pizza restaurants in NYC. The term and location is up to you but make the request below.\n",
    "\n",
    "Use the `requests` library ([documentation here](https://requests.readthedocs.io/en/master/user/quickstart/#make-a-request)).\n",
    "\n",
    "You'll also need an API key from Yelp. If you haven't done this already, go to the Yelp [Manage App page](https://www.yelp.com/developers/v3/manage_app) and create a new app (after making an account if you haven't already)."
   ]
  },
  {
   "cell_type": "code",
   "execution_count": 1,
   "metadata": {},
   "outputs": [
    {
     "data": {
      "text/plain": [
       "<Response [200]>"
      ]
     },
     "execution_count": 1,
     "metadata": {},
     "output_type": "execute_result"
    }
   ],
   "source": [
    "# Replace None with appropriate code\n",
    "\n",
    "# Import the requests library\n",
    "import requests\n",
    "\n",
    "# Get this from the \"Manage App\" page. Make sure you set them\n",
    "# back to None before pushing this to GitHub, since otherwise\n",
    "# your credentials will be compromised\n",
    "api_key = None\n",
    "\n",
    "# These can be whatever you want! But the solution uses \"pizza\"\n",
    "# and \"New York NY\" if you want to compare your work directly\n",
    "term = \"pizza\"\n",
    "location = \"Oregon OR\"\n",
    "\n",
    "# Set up params for request\n",
    "url = \"https://api.yelp.com/v3/businesses/search\"\n",
    "headers = {\n",
    "    \"Authorization\": \"Bearer {}\".format(api_key)\n",
    "}\n",
    "url_params = {\n",
    "    \"term\": term.replace(\" \", \"+\"),\n",
    "    \"location\": location.replace(\" \", \"+\")\n",
    "}\n",
    "\n",
    "# Make the request using requests.get, passing in\n",
    "# url, headers=headers, and params=url_params\n",
    "response = requests.get(url, headers=headers, params=url_params)\n",
    "\n",
    "# Confirm we got a 200 response\n",
    "response"
   ]
  },
  {
   "cell_type": "code",
   "execution_count": 2,
   "metadata": {},
   "outputs": [
    {
     "data": {
      "text/plain": [
       "dict_keys(['businesses', 'total', 'region'])"
      ]
     },
     "execution_count": 2,
     "metadata": {},
     "output_type": "execute_result"
    }
   ],
   "source": [
    "# Run this cell without changes\n",
    "\n",
    "# Get the response body in JSON format\n",
    "response_json = response.json()\n",
    "# View the keys\n",
    "response_json.keys()"
   ]
  },
  {
   "cell_type": "markdown",
   "metadata": {},
   "source": [
    "### Extracting Data\n",
    "\n",
    "Now, retrieve the value associated with the `'businesses'` key, and inspect its contents."
   ]
  },
  {
   "cell_type": "code",
   "execution_count": 3,
   "metadata": {},
   "outputs": [
    {
     "data": {
      "text/plain": [
       "[{'id': 'JGFk4lMBifVHV3aQYZyLNA',\n",
       "  'alias': 'crooked-river-brewing-prineville',\n",
       "  'name': 'Crooked River Brewing',\n",
       "  'image_url': 'https://s3-media3.fl.yelpcdn.com/bphoto/04IdBUpuIFgVbnWh743zFw/o.jpg',\n",
       "  'is_closed': False,\n",
       "  'url': 'https://www.yelp.com/biz/crooked-river-brewing-prineville?adjust_creative=BXi-3KxUq9odKe5eH7f98Q&utm_campaign=yelp_api_v3&utm_medium=api_v3_business_search&utm_source=BXi-3KxUq9odKe5eH7f98Q',\n",
       "  'review_count': 44,\n",
       "  'categories': [{'alias': 'brewpubs', 'title': 'Brewpubs'}],\n",
       "  'rating': 4.0,\n",
       "  'coordinates': {'latitude': 44.30417, 'longitude': -120.84648},\n",
       "  'transactions': [],\n",
       "  'price': '$$',\n",
       "  'location': {'address1': '420 N Main St',\n",
       "   'address2': '',\n",
       "   'address3': None,\n",
       "   'city': 'Prineville',\n",
       "   'zip_code': '97754',\n",
       "   'country': 'US',\n",
       "   'state': 'OR',\n",
       "   'display_address': ['420 N Main St', 'Prineville, OR 97754']},\n",
       "  'phone': '+15413625583',\n",
       "  'display_phone': '(541) 362-5583',\n",
       "  'distance': 27383.818105190374},\n",
       " {'id': '-VqHrJ3xl46kik5GrUFpMQ',\n",
       "  'alias': 'red-road-pizza-company-redmond-2',\n",
       "  'name': 'Red Road Pizza Company',\n",
       "  'image_url': 'https://s3-media1.fl.yelpcdn.com/bphoto/abfSkQoi-hUfBFov3egERw/o.jpg',\n",
       "  'is_closed': False,\n",
       "  'url': 'https://www.yelp.com/biz/red-road-pizza-company-redmond-2?adjust_creative=BXi-3KxUq9odKe5eH7f98Q&utm_campaign=yelp_api_v3&utm_medium=api_v3_business_search&utm_source=BXi-3KxUq9odKe5eH7f98Q',\n",
       "  'review_count': 21,\n",
       "  'categories': [{'alias': 'pizza', 'title': 'Pizza'},\n",
       "   {'alias': 'foodtrucks', 'title': 'Food Trucks'}],\n",
       "  'rating': 4.5,\n",
       "  'coordinates': {'latitude': 44.27402083294103,\n",
       "   'longitude': -121.17307732919478},\n",
       "  'transactions': [],\n",
       "  'location': {'address1': '332 SW 5th St',\n",
       "   'address2': None,\n",
       "   'address3': None,\n",
       "   'city': 'Redmond',\n",
       "   'zip_code': '97756',\n",
       "   'country': 'US',\n",
       "   'state': 'OR',\n",
       "   'display_address': ['332 SW 5th St', 'Redmond, OR 97756']},\n",
       "  'phone': '+15416395366',\n",
       "  'display_phone': '(541) 639-5366',\n",
       "  'distance': 48987.31245218816}]"
      ]
     },
     "execution_count": 3,
     "metadata": {},
     "output_type": "execute_result"
    }
   ],
   "source": [
    "# Replace None with appropriate code\n",
    "\n",
    "# Retrieve the value from response_json\n",
    "businesses = response_json['businesses']\n",
    "\n",
    "# View the first 2 records\n",
    "businesses[:2]"
   ]
  },
  {
   "cell_type": "markdown",
   "metadata": {},
   "source": [
    "### Preparing Data\n",
    "\n",
    "Write a function `prepare_data` that takes in a list of dictionaries like `businesses` and returns a copy that has been prepared for analysis:\n",
    "\n",
    "1. The `coordinates` key-value pair has been converted into two separate key-value pairs, `latitude` and `longitude`\n",
    "2. All other key-value pairs except for `name`, `review_count`, `rating`, and `price` have been dropped\n",
    "3. All dictionaries missing one of the relevant keys or containing null values have been dropped\n",
    "\n",
    "In other words, the final keys for each dictionary should be `name`, `review_count`, `rating`, `price`, `latitude`, and `longitude`.\n",
    "\n",
    "Complete the function in the cell below:"
   ]
  },
  {
   "cell_type": "code",
   "execution_count": 4,
   "metadata": {},
   "outputs": [
    {
     "data": {
      "text/plain": [
       "[{'name': 'Crooked River Brewing',\n",
       "  'review_count': 44,\n",
       "  'rating': 4.0,\n",
       "  'price': '$$',\n",
       "  'latitude': 44.30417,\n",
       "  'longitude': -120.84648},\n",
       " {'name': 'Grace and Hammer',\n",
       "  'review_count': 111,\n",
       "  'rating': 4.5,\n",
       "  'price': '$$',\n",
       "  'latitude': 44.27475,\n",
       "  'longitude': -121.17503},\n",
       " {'name': 'Jersey Boys Pizzeria',\n",
       "  'review_count': 124,\n",
       "  'rating': 4.0,\n",
       "  'price': '$$',\n",
       "  'latitude': 44.2801448,\n",
       "  'longitude': -121.1738689},\n",
       " {'name': 'Pizza Hut',\n",
       "  'review_count': 22,\n",
       "  'rating': 2.0,\n",
       "  'price': '$',\n",
       "  'latitude': 44.3039556518505,\n",
       "  'longitude': -120.8286484},\n",
       " {'name': \"Abby's Legendary Pizza\",\n",
       "  'review_count': 27,\n",
       "  'rating': 3.5,\n",
       "  'price': '$$',\n",
       "  'latitude': 44.649392,\n",
       "  'longitude': -121.128686931152}]"
      ]
     },
     "execution_count": 4,
     "metadata": {},
     "output_type": "execute_result"
    }
   ],
   "source": [
    "# Replace None with appropriate code\n",
    "\n",
    "def prepare_data(data_list):\n",
    "    \"\"\"\n",
    "    This function takes in a list of dictionaries and prepares it\n",
    "    for analysis\n",
    "    \"\"\"\n",
    "    \n",
    "    # Make a new list to hold results\n",
    "    results = []\n",
    "    \n",
    "    for business_data in data_list:\n",
    "    \n",
    "        # Make a new dictionary to hold prepared data for this business\n",
    "        prepared_data = {}\n",
    "        \n",
    "        # Extract name, review_count, rating, and price key-value pairs\n",
    "        # from business_data and add to prepared_data\n",
    "        # If a key is not present in business_data, add it to prepared_data\n",
    "        # with an associated value of None\n",
    "        for key in ('name', 'review_count', 'rating', 'price'):\n",
    "            prepared_data[key]= business_data.get(key,None)\n",
    "    \n",
    "        # Parse and add latitude and longitude columns\n",
    "        coordinates= business_data['coordinates']\n",
    "        prepared_data['latitude']=coordinates[\"latitude\"]\n",
    "        prepared_data['longitude']=coordinates['longitude']\n",
    "        \n",
    "        # Add to list if all values are present\n",
    "        if all(prepared_data.values()):\n",
    "            results.append(prepared_data)\n",
    "    \n",
    "    return results\n",
    "    \n",
    "# Test out function\n",
    "prepared_businesses = prepare_data(businesses)\n",
    "prepared_businesses[:5]"
   ]
  },
  {
   "cell_type": "markdown",
   "metadata": {},
   "source": [
    "Check that your function created the correct keys:"
   ]
  },
  {
   "cell_type": "code",
   "execution_count": 5,
   "metadata": {},
   "outputs": [],
   "source": [
    "# Run this cell without changes\n",
    "\n",
    "assert sorted(list(prepared_businesses[0].keys())) == ['latitude', 'longitude', 'name', 'price', 'rating', 'review_count']"
   ]
  },
  {
   "cell_type": "markdown",
   "metadata": {},
   "source": [
    "The following code will differ depending on your query, but we expect there to be 20 businesses in the original list, and potentially fewer in the prepared list (if any of them were missing data):"
   ]
  },
  {
   "cell_type": "code",
   "execution_count": 6,
   "metadata": {},
   "outputs": [
    {
     "name": "stdout",
     "output_type": "stream",
     "text": [
      "Original: 20\n",
      "Prepared: 13\n"
     ]
    }
   ],
   "source": [
    "# Run this cell without changes\n",
    "print(\"Original:\", len(businesses))\n",
    "print(\"Prepared:\", len(prepared_businesses))"
   ]
  },
  {
   "cell_type": "markdown",
   "metadata": {},
   "source": [
    "Great! We will reuse this function once we have retrieved the full dataset."
   ]
  },
  {
   "cell_type": "markdown",
   "metadata": {},
   "source": [
    "## 2. Add Pagination\n",
    "\n",
    "Now that you are able to extract information from one page of the response, let's figure out how to request as many pages as possible.\n",
    "\n",
    "### Determining the Total\n",
    "\n",
    "Depending on the number of total results for your query, you will either retrieve all of the results, or just the first 1000 (if there are more than 1000 total).\n",
    "\n",
    "We can find the total number of results using the `\"total\"` key:"
   ]
  },
  {
   "cell_type": "code",
   "execution_count": 7,
   "metadata": {},
   "outputs": [
    {
     "data": {
      "text/plain": [
       "161"
      ]
     },
     "execution_count": 7,
     "metadata": {},
     "output_type": "execute_result"
    }
   ],
   "source": [
    "# Run this cell without changes\n",
    "response_json[\"total\"]"
   ]
  },
  {
   "cell_type": "markdown",
   "metadata": {},
   "source": [
    "(This is specific to the implementation of the Yelp API. Some APIs will just tell you that there are more pages, or will tell you the number of pages total, rather than the total number of results. If you're not sure, always check the documentation.)\n",
    "\n",
    "In the cell below, assign the variable `total` to either the value shown above (if it is less than 1000), or 1000."
   ]
  },
  {
   "cell_type": "code",
   "execution_count": 8,
   "metadata": {},
   "outputs": [
    {
     "data": {
      "text/plain": [
       "161"
      ]
     },
     "execution_count": 8,
     "metadata": {},
     "output_type": "execute_result"
    }
   ],
   "source": [
    "# Replace None with appropriate code\n",
    "total = response_json['total']\n",
    "total"
   ]
  },
  {
   "cell_type": "markdown",
   "metadata": {},
   "source": [
    "### Calculating the Offsets\n",
    "\n",
    "The documentation states in the parameters section:\n",
    "\n",
    "> **Name**: `limit`, **Type:** int, **Description:** Optional. Number of business results to return. By default, it will return 20. Maximum is 50.\n",
    "\n",
    "> **Name**: `offset`, **Type:** int, **Description:** Optional. Offset the list of returned business results by this amount.\n",
    "\n",
    "So, to get the most results with the fewest API calls we want to set a limit of 50 every time. If, say, we wanted to get 210 total results, that would mean:\n",
    "\n",
    "1. Offset of `0` (first 50 records)\n",
    "2. Offset of `50` (second 50 records)\n",
    "3. Offset of `100` (third 50 records)\n",
    "4. Offset of `150` (fourth 50 records)\n",
    "5. Offset of `200` (final 10 records)\n",
    "\n",
    "In the cell below, create a function `get_offsets` that takes in a total and returns a list of offsets for that total. You can assume that there is a limit of 50 every time.\n",
    "\n",
    "*Hint: you can use `range` ([documentation here](https://docs.python.org/3.3/library/stdtypes.html?highlight=range#range)) to do this in one line of code. Just make the returned result is a list.*"
   ]
  },
  {
   "cell_type": "code",
   "execution_count": 9,
   "metadata": {},
   "outputs": [
    {
     "data": {
      "text/plain": [
       "[0, 50, 100, 150]"
      ]
     },
     "execution_count": 9,
     "metadata": {},
     "output_type": "execute_result"
    }
   ],
   "source": [
    "# Replace None with appropriate code\n",
    "def get_offsets(total):\n",
    "    \"\"\"\n",
    "    Get a list of offsets needed to get all pages\n",
    "    of data up until the total\n",
    "    \"\"\"\n",
    "    return list(range(0, total, 50))\n",
    "get_offsets(total)"
   ]
  },
  {
   "cell_type": "markdown",
   "metadata": {},
   "source": [
    "Check that your function works below:"
   ]
  },
  {
   "cell_type": "code",
   "execution_count": 10,
   "metadata": {},
   "outputs": [],
   "source": [
    "# Run this cell without changes\n",
    "\n",
    "assert get_offsets(200) == [0, 50, 100, 150]\n",
    "assert get_offsets(210) == [0, 50, 100, 150, 200]"
   ]
  },
  {
   "cell_type": "markdown",
   "metadata": {},
   "source": [
    "### Putting It All Together\n",
    "\n",
    "Recall that the following variable has already been declared for you:"
   ]
  },
  {
   "cell_type": "code",
   "execution_count": 11,
   "metadata": {},
   "outputs": [
    {
     "data": {
      "text/plain": [
       "{'term': 'pizza', 'location': 'Oregon+OR'}"
      ]
     },
     "execution_count": 11,
     "metadata": {},
     "output_type": "execute_result"
    }
   ],
   "source": [
    "# Run this cell without changes\n",
    "url_params"
   ]
  },
  {
   "cell_type": "markdown",
   "metadata": {},
   "source": [
    "We'll go ahead and also specify that the limit should be 50 every time:"
   ]
  },
  {
   "cell_type": "code",
   "execution_count": 12,
   "metadata": {},
   "outputs": [],
   "source": [
    "# Run this cell without changes\n",
    "url_params[\"limit\"] = 50"
   ]
  },
  {
   "cell_type": "markdown",
   "metadata": {},
   "source": [
    "In order to modify the offset, you'll need to add it to `url_params` with the key `\"offset\"` and whatever value is needed.\n",
    "\n",
    "In the cell below, write code that:\n",
    "\n",
    "* Creates an empty list for the full prepared dataset\n",
    "* Loops over all of the offsets from `get_offsets` and makes an API call each time with the specified offset\n",
    "* Calls `prepare_data` to get a cleaned version of the result of each API call\n",
    "* Extends the full prepared dataset list with each query's prepared dataset"
   ]
  },
  {
   "cell_type": "code",
   "execution_count": 13,
   "metadata": {},
   "outputs": [
    {
     "data": {
      "text/plain": [
       "131"
      ]
     },
     "execution_count": 13,
     "metadata": {},
     "output_type": "execute_result"
    }
   ],
   "source": [
    "# Replace None with appropriate code\n",
    "\n",
    "# Create an empty list for the full prepared dataset\n",
    "full_dataset = []\n",
    "\n",
    "for offset in get_offsets(total):\n",
    "    # Add or update the \"offset\" key-value pair in url_params\n",
    "    url_params['offset'] = offset\n",
    "    \n",
    "    # Make the query and get the response\n",
    "    response = requests.get(url, headers=headers, params=url_params)\n",
    "    \n",
    "    # Get the response body in JSON format\n",
    "    response_json = response.json()\n",
    "    \n",
    "    # Get the list of businesses from the response_json\n",
    "    businesses = response_json['businesses']\n",
    "    \n",
    "    # Call the prepare_data function to get a list of processed data\n",
    "    prepared_businesses = prepare_data(businesses)\n",
    "    \n",
    "    # Extend full_dataset with this list (don't append, or you'll get\n",
    "    # a list of lists instead of a flat list)\n",
    "    full_dataset.extend(prepared_businesses)\n",
    "\n",
    "# Check the length of the full dataset. It will be up to `total`,\n",
    "# potentially less if there were missing values\n",
    "len(full_dataset)"
   ]
  },
  {
   "cell_type": "markdown",
   "metadata": {},
   "source": [
    "This code may take up to a few minutes to run.\n",
    "\n",
    "If you get an error trying to get the response body in JSON format, try adding `time.sleep(1)` right after the `requests.get` line, so your code will sleep for 1 second between each API call."
   ]
  },
  {
   "cell_type": "markdown",
   "metadata": {},
   "source": [
    "## 3. Perform Exploratory Analysis\n",
    "\n",
    "Take the businesses from the previous question and do an initial exploratory analysis. We have provided some plots for you to interpret:"
   ]
  },
  {
   "cell_type": "code",
   "execution_count": 14,
   "metadata": {},
   "outputs": [
    {
     "data": {
      "image/png": "[encoded data removed]",
      "text/plain": [
       "<Figure size 1152x360 with 3 Axes>"
      ]
     },
     "metadata": {
      "needs_background": "light"
     },
     "output_type": "display_data"
    }
   ],
   "source": [
    "# Run this cell without changes\n",
    "from collections import Counter\n",
    "import matplotlib.pyplot as plt\n",
    "%matplotlib inline\n",
    "\n",
    "fig, (ax1, ax2, ax3) = plt.subplots(ncols=3, figsize=(16, 5))\n",
    "\n",
    "# Plot distribution of number of reviews\n",
    "all_review_counts = [x[\"review_count\"] for x in full_dataset]\n",
    "ax1.hist(all_review_counts)\n",
    "ax1.set_title(\"Review Count Distribution\")\n",
    "ax1.set_xlabel(\"Number of Reviews\")\n",
    "ax1.set_ylabel(\"Number of Businesses\")\n",
    "\n",
    "# Plot rating distribution\n",
    "all_ratings = [x[\"rating\"] for x in full_dataset]\n",
    "rating_counter = Counter(all_ratings)\n",
    "rating_keys = sorted(rating_counter.keys())\n",
    "ax2.bar(rating_keys, [rating_counter[key] for key in rating_keys])\n",
    "ax2.set_title(\"Rating Distribution\")\n",
    "ax2.set_xlabel(\"Rating\")\n",
    "ax2.set_ylabel(\"Number of Businesses\")\n",
    "\n",
    "# Plot price distribution\n",
    "all_prices = [x[\"price\"].replace(\"$\", r\"\\$\") for x in full_dataset]\n",
    "price_counter = Counter(all_prices)\n",
    "price_keys = sorted(price_counter.keys())\n",
    "ax3.bar(price_keys, [price_counter[key] for key in price_keys])\n",
    "ax3.set_title(\"Price Distribution\")\n",
    "ax3.set_xlabel(\"Price Category\")\n",
    "ax3.set_ylabel(\"Number of Businesses\");"
   ]
  },
  {
   "cell_type": "markdown",
   "metadata": {},
   "source": [
    "Describe the distributions displayed above and interpret them in the context of your query. (Your answer may differ from the solution branch depending on your query.)"
   ]
  },
  {
   "cell_type": "code",
   "execution_count": 15,
   "metadata": {},
   "outputs": [
    {
     "data": {
      "text/plain": [
       "'\\nA majority of the businesses received less than 250 reviews\\nThe ratings are mostly distributed between 3 and 4\\nMany businesses (>80) are fairly priced.\\n\\n'"
      ]
     },
     "execution_count": 15,
     "metadata": {},
     "output_type": "execute_result"
    }
   ],
   "source": [
    "# Replace None with appropriate text\n",
    "\"\"\"\n",
    "A majority of the businesses received less than 250 reviews\n",
    "The ratings are mostly distributed between 3 and 4\n",
    "Many businesses (>80) are fairly priced.\n",
    "\n",
    "\"\"\""
   ]
  },
  {
   "cell_type": "markdown",
   "metadata": {},
   "source": [
    "In the cell below, we also plot the rating distributions by price. In this setup, a price of one dollar sign is \"lower price\" and everything else is \"higher price\"."
   ]
  },
  {
   "cell_type": "code",
   "execution_count": 16,
   "metadata": {},
   "outputs": [
    {
     "data": {
      "image/png": "[encoded data removed]",
      "text/plain": [
       "<Figure size 432x288 with 1 Axes>"
      ]
     },
     "metadata": {
      "needs_background": "light"
     },
     "output_type": "display_data"
    }
   ],
   "source": [
    "# Run this cell without changes\n",
    "\n",
    "higher_price = []\n",
    "lower_price = []\n",
    "for row in full_dataset:\n",
    "    if row[\"price\"] == \"$\":\n",
    "        lower_price.append(row[\"rating\"])\n",
    "    else:\n",
    "        higher_price.append(row[\"rating\"])\n",
    "        \n",
    "fig, ax = plt.subplots()\n",
    "\n",
    "ax.hist([higher_price, lower_price], label=[\"higher price\", \"lower price\"], density=True)\n",
    "\n",
    "ax.legend();"
   ]
  },
  {
   "cell_type": "markdown",
   "metadata": {},
   "source": [
    "Is a higher price associated with a higher rating? (No need for any additional math/statistics, just interpret what you see in the plot.)"
   ]
  },
  {
   "cell_type": "code",
   "execution_count": 17,
   "metadata": {},
   "outputs": [
    {
     "data": {
      "text/plain": [
       "'\\nNo\\nHigher priceS do not directly translate to greater ratingS. \\n'"
      ]
     },
     "execution_count": 17,
     "metadata": {},
     "output_type": "execute_result"
    }
   ],
   "source": [
    "# Replace None with appropriate text\n",
    "\"\"\"\n",
    "No\n",
    "Higher priceS do not directly translate to greater ratingS. \n",
    "\"\"\""
   ]
  },
  {
   "cell_type": "markdown",
   "metadata": {},
   "source": [
    "Finally, let's look at ratings vs. review counts:"
   ]
  },
  {
   "cell_type": "code",
   "execution_count": 18,
   "metadata": {},
   "outputs": [
    {
     "data": {
      "image/png": "[encoded data removed]",
      "text/plain": [
       "<Figure size 1152x360 with 1 Axes>"
      ]
     },
     "metadata": {
      "needs_background": "light"
     },
     "output_type": "display_data"
    }
   ],
   "source": [
    "# Run this cell without changes\n",
    "fig, ax = plt.subplots(figsize=(16,5))\n",
    "\n",
    "ax.scatter(all_review_counts, all_ratings, alpha=0.2)\n",
    "ax.set_xlabel(\"Number of Reviews\")\n",
    "ax.set_ylabel(\"Rating\")\n",
    "# \"zoom in\" to a subset of review counts\n",
    "ax.set_xlim(left=0, right=1000);"
   ]
  },
  {
   "cell_type": "markdown",
   "metadata": {},
   "source": [
    "Is a higher number of reviews associated with a higher rating?"
   ]
  },
  {
   "cell_type": "code",
   "execution_count": 19,
   "metadata": {},
   "outputs": [
    {
     "data": {
      "text/plain": [
       "'\\nNo\\nA higher number of reviews does not directly translate to higher ratings\\n'"
      ]
     },
     "execution_count": 19,
     "metadata": {},
     "output_type": "execute_result"
    }
   ],
   "source": [
    "# Replace None with appropriate text\n",
    "\"\"\"\n",
    "No\n",
    "A higher number of reviews does not directly translate to higher ratings\n",
    "\"\"\""
   ]
  },
  {
   "cell_type": "markdown",
   "metadata": {},
   "source": [
    "## 4. Create a Folium Map\n",
    "\n",
    "Make a map using Folium of the businesses you retrieved. Be sure to also add popups to the markers giving some basic information such as name, rating and price.\n",
    "\n",
    "You can center the map around the latitude and longitude of the first item in `full_dataset`."
   ]
  },
  {
   "cell_type": "code",
   "execution_count": 20,
   "metadata": {},
   "outputs": [
    {
     "data": {
      "text/html": [
       "<div style=\"width:100%;\"><div style=\"position:relative;width:100%;height:0;padding-bottom:60%;\"><span style=\"color:#565656\">Make this Notebook Trusted to load map: File -> Trust Notebook</span><iframe src=\"about:blank\" style=\"position:absolute;width:100%;height:100%;left:0;top:0;border:none !important;\" data-html=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 onload=\"this.contentDocument.open();this.contentDocument.write(atob(this.getAttribute('data-html')));this.contentDocument.close();\" allowfullscreen webkitallowfullscreen mozallowfullscreen></iframe></div></div>"
      ],
      "text/plain": [
       "<folium.folium.Map at 0x26bcb92afa0>"
      ]
     },
     "execution_count": 20,
     "metadata": {},
     "output_type": "execute_result"
    }
   ],
   "source": [
    "# Replace None with appropriate code\n",
    "\n",
    "# Import the library\n",
    "import folium\n",
    "\n",
    "# Set up center latitude and longitude\n",
    "center_lat = full_dataset[0]['latitude']\n",
    "center_long = full_dataset[0]['longitude']\n",
    "\n",
    "# Initialize map with center lat and long\n",
    "yelp_map = folium.Map([center_lat,center_long], zoom_start=14)\n",
    "\n",
    "# Adjust this limit to see more or fewer businesses\n",
    "limit=100\n",
    "\n",
    "for business in full_dataset[:limit]:\n",
    "    # Extract information about business\n",
    "    lat = business['latitude']\n",
    "    long = business['longitude']\n",
    "    name = business['name']\n",
    "    rating = business['rating']\n",
    "    price = business['price']\n",
    "    details = \"{}\\nPrice: {} Rating:{}\".format(name,price,rating)\n",
    "    \n",
    "    # Create popup with relevant details\n",
    "    popup = folium.Popup(details, parse_html=True)\n",
    "            \n",
    "    # Create marker with relevant lat/long and popup\n",
    "    marker = folium.Marker(location=[lat, long], popup=popup)\n",
    "    \n",
    "    marker.add_to(yelp_map)\n",
    "                                     \n",
    "yelp_map"
   ]
  },
  {
   "cell_type": "markdown",
   "metadata": {},
   "source": [
    "## Summary\n",
    "\n",
    "Nice work! In this lab, you've made multiple API calls to Yelp in order to paginate through a results set, performing some basic exploratory analysis and then creating a nice interactive map to display the results using Folium! Well done!"
   ]
  }
 ],
 "metadata": {
  "kernelspec": {
   "display_name": "Python 3",
   "language": "python",
   "name": "python3"
  },
  "language_info": {
   "codemirror_mode": {
    "name": "ipython",
    "version": 3
   },
   "file_extension": ".py",
   "mimetype": "text/x-python",
   "name": "python",
   "nbconvert_exporter": "python",
   "pygments_lexer": "ipython3",
   "version": "3.8.5"
  },
  "toc": {
   "base_numbering": 1,
   "nav_menu": {},
   "number_sections": true,
   "sideBar": true,
   "skip_h1_title": false,
   "title_cell": "Table of Contents",
   "title_sidebar": "Contents",
   "toc_cell": false,
   "toc_position": {},
   "toc_section_display": true,
   "toc_window_display": false
  }
 },
 "nbformat": 4,
 "nbformat_minor": 2
}
